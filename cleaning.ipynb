{
 "cells": [
  {
   "cell_type": "code",
   "execution_count": 84,
   "metadata": {},
   "outputs": [],
   "source": [
    "import pandas as pd\n",
    "import numpy as np"
   ]
  },
  {
   "cell_type": "code",
   "execution_count": 62,
   "metadata": {},
   "outputs": [],
   "source": [
    "df = pd.read_csv('raw_data.csv')"
   ]
  },
  {
   "cell_type": "code",
   "execution_count": 63,
   "metadata": {},
   "outputs": [
    {
     "data": {
      "text/html": [
       "<div>\n",
       "<style scoped>\n",
       "    .dataframe tbody tr th:only-of-type {\n",
       "        vertical-align: middle;\n",
       "    }\n",
       "\n",
       "    .dataframe tbody tr th {\n",
       "        vertical-align: top;\n",
       "    }\n",
       "\n",
       "    .dataframe thead th {\n",
       "        text-align: right;\n",
       "    }\n",
       "</style>\n",
       "<table border=\"1\" class=\"dataframe\">\n",
       "  <thead>\n",
       "    <tr style=\"text-align: right;\">\n",
       "      <th></th>\n",
       "      <th>Bedrooms</th>\n",
       "    </tr>\n",
       "  </thead>\n",
       "  <tbody>\n",
       "    <tr>\n",
       "      <th>count</th>\n",
       "      <td>199.000000</td>\n",
       "    </tr>\n",
       "    <tr>\n",
       "      <th>mean</th>\n",
       "      <td>3.346734</td>\n",
       "    </tr>\n",
       "    <tr>\n",
       "      <th>std</th>\n",
       "      <td>1.331581</td>\n",
       "    </tr>\n",
       "    <tr>\n",
       "      <th>min</th>\n",
       "      <td>1.000000</td>\n",
       "    </tr>\n",
       "    <tr>\n",
       "      <th>25%</th>\n",
       "      <td>2.000000</td>\n",
       "    </tr>\n",
       "    <tr>\n",
       "      <th>50%</th>\n",
       "      <td>3.000000</td>\n",
       "    </tr>\n",
       "    <tr>\n",
       "      <th>75%</th>\n",
       "      <td>4.000000</td>\n",
       "    </tr>\n",
       "    <tr>\n",
       "      <th>max</th>\n",
       "      <td>8.000000</td>\n",
       "    </tr>\n",
       "  </tbody>\n",
       "</table>\n",
       "</div>"
      ],
      "text/plain": [
       "         Bedrooms\n",
       "count  199.000000\n",
       "mean     3.346734\n",
       "std      1.331581\n",
       "min      1.000000\n",
       "25%      2.000000\n",
       "50%      3.000000\n",
       "75%      4.000000\n",
       "max      8.000000"
      ]
     },
     "execution_count": 63,
     "metadata": {},
     "output_type": "execute_result"
    }
   ],
   "source": [
    "df.describe()"
   ]
  },
  {
   "cell_type": "code",
   "execution_count": 64,
   "metadata": {},
   "outputs": [
    {
     "data": {
      "text/html": [
       "<div>\n",
       "<style scoped>\n",
       "    .dataframe tbody tr th:only-of-type {\n",
       "        vertical-align: middle;\n",
       "    }\n",
       "\n",
       "    .dataframe tbody tr th {\n",
       "        vertical-align: top;\n",
       "    }\n",
       "\n",
       "    .dataframe thead th {\n",
       "        text-align: right;\n",
       "    }\n",
       "</style>\n",
       "<table border=\"1\" class=\"dataframe\">\n",
       "  <thead>\n",
       "    <tr style=\"text-align: right;\">\n",
       "      <th></th>\n",
       "      <th>Price</th>\n",
       "      <th>Address</th>\n",
       "      <th>Bedrooms</th>\n",
       "      <th>Description</th>\n",
       "    </tr>\n",
       "  </thead>\n",
       "  <tbody>\n",
       "    <tr>\n",
       "      <th>0</th>\n",
       "      <td>£11,251,000</td>\n",
       "      <td>71 Bondway, London, SW8 1SF</td>\n",
       "      <td>5.0</td>\n",
       "      <td>** THE HEIGHT OF LUXURY IN AN EXCEPTIONAL SETT...</td>\n",
       "    </tr>\n",
       "    <tr>\n",
       "      <th>1</th>\n",
       "      <td>£6,500,000</td>\n",
       "      <td>16 Wotton Road, Cricklewood, NW2 6PX</td>\n",
       "      <td>5.0</td>\n",
       "      <td>A unique opportunity to secure this superbly r...</td>\n",
       "    </tr>\n",
       "    <tr>\n",
       "      <th>2</th>\n",
       "      <td>£3,500,000</td>\n",
       "      <td>Kensington Court Place, London, W8 5BJ</td>\n",
       "      <td>3.0</td>\n",
       "      <td>We are pleased to offer this superb three bedr...</td>\n",
       "    </tr>\n",
       "    <tr>\n",
       "      <th>3</th>\n",
       "      <td>£2,571,000</td>\n",
       "      <td>71 Bondway, London, SW8 1SF</td>\n",
       "      <td>3.0</td>\n",
       "      <td>** CITY VIEWS OF THE OVAL CRICKET GROUND AND C...</td>\n",
       "    </tr>\n",
       "    <tr>\n",
       "      <th>4</th>\n",
       "      <td>£2,495,000</td>\n",
       "      <td>Princes Gate, London, SW7 2QG</td>\n",
       "      <td>3.0</td>\n",
       "      <td>We are pleased to offer this exceptional 3 bed...</td>\n",
       "    </tr>\n",
       "  </tbody>\n",
       "</table>\n",
       "</div>"
      ],
      "text/plain": [
       "         Price                                 Address  Bedrooms  \\\n",
       "0  £11,251,000             71 Bondway, London, SW8 1SF       5.0   \n",
       "1   £6,500,000    16 Wotton Road, Cricklewood, NW2 6PX       5.0   \n",
       "2   £3,500,000  Kensington Court Place, London, W8 5BJ       3.0   \n",
       "3   £2,571,000             71 Bondway, London, SW8 1SF       3.0   \n",
       "4   £2,495,000           Princes Gate, London, SW7 2QG       3.0   \n",
       "\n",
       "                                         Description  \n",
       "0  ** THE HEIGHT OF LUXURY IN AN EXCEPTIONAL SETT...  \n",
       "1  A unique opportunity to secure this superbly r...  \n",
       "2  We are pleased to offer this superb three bedr...  \n",
       "3  ** CITY VIEWS OF THE OVAL CRICKET GROUND AND C...  \n",
       "4  We are pleased to offer this exceptional 3 bed...  "
      ]
     },
     "execution_count": 64,
     "metadata": {},
     "output_type": "execute_result"
    }
   ],
   "source": [
    "df.head()"
   ]
  },
  {
   "cell_type": "code",
   "execution_count": 65,
   "metadata": {},
   "outputs": [
    {
     "data": {
      "text/html": [
       "<div>\n",
       "<style scoped>\n",
       "    .dataframe tbody tr th:only-of-type {\n",
       "        vertical-align: middle;\n",
       "    }\n",
       "\n",
       "    .dataframe tbody tr th {\n",
       "        vertical-align: top;\n",
       "    }\n",
       "\n",
       "    .dataframe thead th {\n",
       "        text-align: right;\n",
       "    }\n",
       "</style>\n",
       "<table border=\"1\" class=\"dataframe\">\n",
       "  <thead>\n",
       "    <tr style=\"text-align: right;\">\n",
       "      <th></th>\n",
       "      <th>Price</th>\n",
       "      <th>Address</th>\n",
       "      <th>Bedrooms</th>\n",
       "      <th>Description</th>\n",
       "    </tr>\n",
       "  </thead>\n",
       "  <tbody>\n",
       "    <tr>\n",
       "      <th>195</th>\n",
       "      <td>£650,000</td>\n",
       "      <td>Mornington Road, Greenford, UB6 9HH</td>\n",
       "      <td>5.0</td>\n",
       "      <td>Purplebricks are excited to introduce this inc...</td>\n",
       "    </tr>\n",
       "    <tr>\n",
       "      <th>196</th>\n",
       "      <td>£650,000</td>\n",
       "      <td>Beaufort Avenue, Harrow, HA3 8PF</td>\n",
       "      <td>3.0</td>\n",
       "      <td>\"Chain Free With Huge Potential STPP\" \"Clean A...</td>\n",
       "    </tr>\n",
       "    <tr>\n",
       "      <th>197</th>\n",
       "      <td>£650,000</td>\n",
       "      <td>Dagmar Road, London, N4 4NY</td>\n",
       "      <td>2.0</td>\n",
       "      <td>*SECOND FLOOR APARTMENT WITH STUNNING SKYLINE ...</td>\n",
       "    </tr>\n",
       "    <tr>\n",
       "      <th>198</th>\n",
       "      <td>£650,000</td>\n",
       "      <td>Cairnfield Avenue, Neasden, NW2 7PE</td>\n",
       "      <td>3.0</td>\n",
       "      <td>Well proportioned three bedroom semi detached ...</td>\n",
       "    </tr>\n",
       "    <tr>\n",
       "      <th>199</th>\n",
       "      <td>£650,000</td>\n",
       "      <td>Park Ridings, London, N8 0LD</td>\n",
       "      <td>3.0</td>\n",
       "      <td>Purplebrick are proud to bring to market this ...</td>\n",
       "    </tr>\n",
       "  </tbody>\n",
       "</table>\n",
       "</div>"
      ],
      "text/plain": [
       "        Price                              Address  Bedrooms  \\\n",
       "195  £650,000  Mornington Road, Greenford, UB6 9HH       5.0   \n",
       "196  £650,000     Beaufort Avenue, Harrow, HA3 8PF       3.0   \n",
       "197  £650,000          Dagmar Road, London, N4 4NY       2.0   \n",
       "198  £650,000  Cairnfield Avenue, Neasden, NW2 7PE       3.0   \n",
       "199  £650,000         Park Ridings, London, N8 0LD       3.0   \n",
       "\n",
       "                                           Description  \n",
       "195  Purplebricks are excited to introduce this inc...  \n",
       "196  \"Chain Free With Huge Potential STPP\" \"Clean A...  \n",
       "197  *SECOND FLOOR APARTMENT WITH STUNNING SKYLINE ...  \n",
       "198  Well proportioned three bedroom semi detached ...  \n",
       "199  Purplebrick are proud to bring to market this ...  "
      ]
     },
     "execution_count": 65,
     "metadata": {},
     "output_type": "execute_result"
    }
   ],
   "source": [
    "df.tail()"
   ]
  },
  {
   "cell_type": "code",
   "execution_count": 66,
   "metadata": {},
   "outputs": [
    {
     "data": {
      "text/html": [
       "<div>\n",
       "<style scoped>\n",
       "    .dataframe tbody tr th:only-of-type {\n",
       "        vertical-align: middle;\n",
       "    }\n",
       "\n",
       "    .dataframe tbody tr th {\n",
       "        vertical-align: top;\n",
       "    }\n",
       "\n",
       "    .dataframe thead th {\n",
       "        text-align: right;\n",
       "    }\n",
       "</style>\n",
       "<table border=\"1\" class=\"dataframe\">\n",
       "  <thead>\n",
       "    <tr style=\"text-align: right;\">\n",
       "      <th></th>\n",
       "      <th>Price</th>\n",
       "      <th>Address</th>\n",
       "      <th>Bedrooms</th>\n",
       "      <th>Description</th>\n",
       "      <th>Postcode</th>\n",
       "    </tr>\n",
       "  </thead>\n",
       "  <tbody>\n",
       "    <tr>\n",
       "      <th>0</th>\n",
       "      <td>£11,251,000</td>\n",
       "      <td>71 Bondway, London, SW8 1SF</td>\n",
       "      <td>5.0</td>\n",
       "      <td>** THE HEIGHT OF LUXURY IN AN EXCEPTIONAL SETT...</td>\n",
       "      <td>SW8</td>\n",
       "    </tr>\n",
       "    <tr>\n",
       "      <th>1</th>\n",
       "      <td>£6,500,000</td>\n",
       "      <td>16 Wotton Road, Cricklewood, NW2 6PX</td>\n",
       "      <td>5.0</td>\n",
       "      <td>A unique opportunity to secure this superbly r...</td>\n",
       "      <td>NW2</td>\n",
       "    </tr>\n",
       "    <tr>\n",
       "      <th>2</th>\n",
       "      <td>£3,500,000</td>\n",
       "      <td>Kensington Court Place, London, W8 5BJ</td>\n",
       "      <td>3.0</td>\n",
       "      <td>We are pleased to offer this superb three bedr...</td>\n",
       "      <td>W8</td>\n",
       "    </tr>\n",
       "    <tr>\n",
       "      <th>3</th>\n",
       "      <td>£2,571,000</td>\n",
       "      <td>71 Bondway, London, SW8 1SF</td>\n",
       "      <td>3.0</td>\n",
       "      <td>** CITY VIEWS OF THE OVAL CRICKET GROUND AND C...</td>\n",
       "      <td>SW8</td>\n",
       "    </tr>\n",
       "    <tr>\n",
       "      <th>4</th>\n",
       "      <td>£2,495,000</td>\n",
       "      <td>Princes Gate, London, SW7 2QG</td>\n",
       "      <td>3.0</td>\n",
       "      <td>We are pleased to offer this exceptional 3 bed...</td>\n",
       "      <td>SW7</td>\n",
       "    </tr>\n",
       "  </tbody>\n",
       "</table>\n",
       "</div>"
      ],
      "text/plain": [
       "         Price                                 Address  Bedrooms  \\\n",
       "0  £11,251,000             71 Bondway, London, SW8 1SF       5.0   \n",
       "1   £6,500,000    16 Wotton Road, Cricklewood, NW2 6PX       5.0   \n",
       "2   £3,500,000  Kensington Court Place, London, W8 5BJ       3.0   \n",
       "3   £2,571,000             71 Bondway, London, SW8 1SF       3.0   \n",
       "4   £2,495,000           Princes Gate, London, SW7 2QG       3.0   \n",
       "\n",
       "                                         Description Postcode  \n",
       "0  ** THE HEIGHT OF LUXURY IN AN EXCEPTIONAL SETT...      SW8  \n",
       "1  A unique opportunity to secure this superbly r...      NW2  \n",
       "2  We are pleased to offer this superb three bedr...       W8  \n",
       "3  ** CITY VIEWS OF THE OVAL CRICKET GROUND AND C...      SW8  \n",
       "4  We are pleased to offer this exceptional 3 bed...      SW7  "
      ]
     },
     "execution_count": 66,
     "metadata": {},
     "output_type": "execute_result"
    }
   ],
   "source": [
    "# Create a new column which only contains the property postcode\n",
    "df['Postcode'] = df['Address'].str.extract(r'([a-zA-Z]+[\\d]+)')\n",
    "\n",
    "df.head()"
   ]
  },
  {
   "cell_type": "code",
   "execution_count": 67,
   "metadata": {},
   "outputs": [
    {
     "data": {
      "text/html": [
       "<div>\n",
       "<style scoped>\n",
       "    .dataframe tbody tr th:only-of-type {\n",
       "        vertical-align: middle;\n",
       "    }\n",
       "\n",
       "    .dataframe tbody tr th {\n",
       "        vertical-align: top;\n",
       "    }\n",
       "\n",
       "    .dataframe thead th {\n",
       "        text-align: right;\n",
       "    }\n",
       "</style>\n",
       "<table border=\"1\" class=\"dataframe\">\n",
       "  <thead>\n",
       "    <tr style=\"text-align: right;\">\n",
       "      <th></th>\n",
       "      <th>Price</th>\n",
       "      <th>Address</th>\n",
       "      <th>Bedrooms</th>\n",
       "      <th>Description</th>\n",
       "      <th>Postcode</th>\n",
       "    </tr>\n",
       "  </thead>\n",
       "  <tbody>\n",
       "    <tr>\n",
       "      <th>0</th>\n",
       "      <td>11251000</td>\n",
       "      <td>71 Bondway, London, SW8 1SF</td>\n",
       "      <td>5.0</td>\n",
       "      <td>** THE HEIGHT OF LUXURY IN AN EXCEPTIONAL SETT...</td>\n",
       "      <td>SW8</td>\n",
       "    </tr>\n",
       "    <tr>\n",
       "      <th>1</th>\n",
       "      <td>6500000</td>\n",
       "      <td>16 Wotton Road, Cricklewood, NW2 6PX</td>\n",
       "      <td>5.0</td>\n",
       "      <td>A unique opportunity to secure this superbly r...</td>\n",
       "      <td>NW2</td>\n",
       "    </tr>\n",
       "    <tr>\n",
       "      <th>2</th>\n",
       "      <td>3500000</td>\n",
       "      <td>Kensington Court Place, London, W8 5BJ</td>\n",
       "      <td>3.0</td>\n",
       "      <td>We are pleased to offer this superb three bedr...</td>\n",
       "      <td>W8</td>\n",
       "    </tr>\n",
       "    <tr>\n",
       "      <th>3</th>\n",
       "      <td>2571000</td>\n",
       "      <td>71 Bondway, London, SW8 1SF</td>\n",
       "      <td>3.0</td>\n",
       "      <td>** CITY VIEWS OF THE OVAL CRICKET GROUND AND C...</td>\n",
       "      <td>SW8</td>\n",
       "    </tr>\n",
       "    <tr>\n",
       "      <th>4</th>\n",
       "      <td>2495000</td>\n",
       "      <td>Princes Gate, London, SW7 2QG</td>\n",
       "      <td>3.0</td>\n",
       "      <td>We are pleased to offer this exceptional 3 bed...</td>\n",
       "      <td>SW7</td>\n",
       "    </tr>\n",
       "  </tbody>\n",
       "</table>\n",
       "</div>"
      ],
      "text/plain": [
       "      Price                                 Address  Bedrooms  \\\n",
       "0  11251000             71 Bondway, London, SW8 1SF       5.0   \n",
       "1   6500000    16 Wotton Road, Cricklewood, NW2 6PX       5.0   \n",
       "2   3500000  Kensington Court Place, London, W8 5BJ       3.0   \n",
       "3   2571000             71 Bondway, London, SW8 1SF       3.0   \n",
       "4   2495000           Princes Gate, London, SW7 2QG       3.0   \n",
       "\n",
       "                                         Description Postcode  \n",
       "0  ** THE HEIGHT OF LUXURY IN AN EXCEPTIONAL SETT...      SW8  \n",
       "1  A unique opportunity to secure this superbly r...      NW2  \n",
       "2  We are pleased to offer this superb three bedr...       W8  \n",
       "3  ** CITY VIEWS OF THE OVAL CRICKET GROUND AND C...      SW8  \n",
       "4  We are pleased to offer this exceptional 3 bed...      SW7  "
      ]
     },
     "execution_count": 67,
     "metadata": {},
     "output_type": "execute_result"
    }
   ],
   "source": [
    "# Remove symbols from the price column\n",
    "df['Price'] = df['Price'].str.replace(\"£\", \"\").str.replace(\",\", \"\")\n",
    "\n",
    "df.head()"
   ]
  },
  {
   "cell_type": "code",
   "execution_count": 68,
   "metadata": {},
   "outputs": [
    {
     "name": "stdout",
     "output_type": "stream",
     "text": [
      "The following rows are duplicates:\n",
      "      Price                      Address  Bedrooms  \\\n",
      "9   1753000  71 Bondway, London, SW8 1SF       2.0   \n",
      "10  1753000  71 Bondway, London, SW8 1SF       2.0   \n",
      "\n",
      "                                          Description Postcode  \n",
      "9   ** FAN OF CRICKET? WITH DIRECT OF VIEWS OF THE...      SW8  \n",
      "10  ** FAN OF CRICKET? WITH DIRECT OF VIEWS OF THE...      SW8  \n"
     ]
    }
   ],
   "source": [
    "# Check for duplicates and inspect them if there are any\n",
    "duplicates = df[df.duplicated(keep=False)]\n",
    "\n",
    "if len(duplicates) > 0:\n",
    "    print('The following are duplicates:')\n",
    "    print(duplicates)\n",
    "else:\n",
    "    print('No duplicates')"
   ]
  },
  {
   "cell_type": "code",
   "execution_count": 69,
   "metadata": {},
   "outputs": [
    {
     "name": "stdout",
     "output_type": "stream",
     "text": [
      "There are no duplicates in the DataFrame.\n"
     ]
    }
   ],
   "source": [
    "# Drop any duplicates\n",
    "df = df.drop_duplicates()\n",
    "\n",
    "duplicates = df[df.duplicated(keep=False)]\n",
    "\n",
    "if len(duplicates) > 0:\n",
    "    print('The following are duplicates:')\n",
    "    print(duplicates)\n",
    "else:\n",
    "    print('No duplicates')"
   ]
  },
  {
   "cell_type": "code",
   "execution_count": 70,
   "metadata": {},
   "outputs": [
    {
     "name": "stdout",
     "output_type": "stream",
     "text": [
      "      Price                      Address  Bedrooms  \\\n",
      "154  712000  71 Bondway, London, SW8 1SF       NaN   \n",
      "\n",
      "                                           Description Postcode  \n",
      "154  ** DESIGN INSPIRED BY VERSCAE, BRAND NEW LUXUR...      SW8  \n"
     ]
    }
   ],
   "source": [
    "# Check for missing values and inspect them if there are any\n",
    "missing_values = df.isna()\n",
    "\n",
    "missing_rows = df[missing_values.any(axis=1)]\n",
    "\n",
    "if len(missing_rows) < 1:\n",
    "    print(\"No missing values\")\n",
    "else:\n",
    "    print(missing_rows)\n"
   ]
  },
  {
   "cell_type": "code",
   "execution_count": 71,
   "metadata": {},
   "outputs": [],
   "source": [
    "# There was one missing value in the bedroom column, it will be imputed to the mean and then rounded as you can't have 3.3 bedrooms\n",
    "impute_mean = round(df['Bedrooms'].mean())\n",
    "\n",
    "df['Bedrooms'] = df['Bedrooms'].fillna(impute_mean)"
   ]
  },
  {
   "cell_type": "code",
   "execution_count": 72,
   "metadata": {},
   "outputs": [
    {
     "name": "stdout",
     "output_type": "stream",
     "text": [
      "No missing values\n"
     ]
    }
   ],
   "source": [
    "# Checking to see if the previous was effective\n",
    "missing_values = df.isna()\n",
    "\n",
    "missing_rows = df[missing_values.any(axis=1)]\n",
    "\n",
    "if len(missing_rows) < 1:\n",
    "    print(\"No missing values\")\n",
    "else:\n",
    "    print(missing_rows)"
   ]
  },
  {
   "cell_type": "code",
   "execution_count": 73,
   "metadata": {},
   "outputs": [
    {
     "name": "stdout",
     "output_type": "stream",
     "text": [
      "Bedrooms has no non-integers.\n"
     ]
    }
   ],
   "source": [
    "# As previously mentioned, you can't have 1.3 bedrooms, so making sure all values in this column are whole numbers\n",
    "non_integers = df['Bedrooms'] % 1 != 0\n",
    "\n",
    "if any(non_integers):\n",
    "    print(df[non_integers])\n",
    "else:\n",
    "    print(\"0 non-integers\")"
   ]
  },
  {
   "cell_type": "code",
   "execution_count": 74,
   "metadata": {},
   "outputs": [
    {
     "data": {
      "text/plain": [
       "Price           object\n",
       "Address         object\n",
       "Bedrooms       float64\n",
       "Description     object\n",
       "Postcode        object\n",
       "dtype: object"
      ]
     },
     "execution_count": 74,
     "metadata": {},
     "output_type": "execute_result"
    }
   ],
   "source": [
    "df.dtypes"
   ]
  },
  {
   "cell_type": "code",
   "execution_count": 75,
   "metadata": {},
   "outputs": [
    {
     "name": "stdout",
     "output_type": "stream",
     "text": [
      "Price             int32\n",
      "Address          object\n",
      "Bedrooms          int32\n",
      "Description      object\n",
      "Postcode       category\n",
      "dtype: object\n"
     ]
    }
   ],
   "source": [
    "# Changing the data types of these columns after inspecting them previously\n",
    "df['Price'] = df['Price'].astype('int')\n",
    "df['Bedrooms'] = df['Bedrooms'].astype('int')\n",
    "df['Postcode'] = df['Postcode'].astype('category')\n",
    "\n",
    "print(df.dtypes)"
   ]
  },
  {
   "cell_type": "code",
   "execution_count": 78,
   "metadata": {},
   "outputs": [
    {
     "data": {
      "text/html": [
       "<div>\n",
       "<style scoped>\n",
       "    .dataframe tbody tr th:only-of-type {\n",
       "        vertical-align: middle;\n",
       "    }\n",
       "\n",
       "    .dataframe tbody tr th {\n",
       "        vertical-align: top;\n",
       "    }\n",
       "\n",
       "    .dataframe thead th {\n",
       "        text-align: right;\n",
       "    }\n",
       "</style>\n",
       "<table border=\"1\" class=\"dataframe\">\n",
       "  <thead>\n",
       "    <tr style=\"text-align: right;\">\n",
       "      <th></th>\n",
       "      <th>Price</th>\n",
       "      <th>Bedrooms</th>\n",
       "    </tr>\n",
       "  </thead>\n",
       "  <tbody>\n",
       "    <tr>\n",
       "      <th>count</th>\n",
       "      <td>199.000</td>\n",
       "      <td>199.000</td>\n",
       "    </tr>\n",
       "    <tr>\n",
       "      <th>mean</th>\n",
       "      <td>1016886.181</td>\n",
       "      <td>3.352</td>\n",
       "    </tr>\n",
       "    <tr>\n",
       "      <th>std</th>\n",
       "      <td>914897.922</td>\n",
       "      <td>1.328</td>\n",
       "    </tr>\n",
       "    <tr>\n",
       "      <th>min</th>\n",
       "      <td>650000.000</td>\n",
       "      <td>1.000</td>\n",
       "    </tr>\n",
       "    <tr>\n",
       "      <th>25%</th>\n",
       "      <td>725000.000</td>\n",
       "      <td>2.000</td>\n",
       "    </tr>\n",
       "    <tr>\n",
       "      <th>50%</th>\n",
       "      <td>815000.000</td>\n",
       "      <td>3.000</td>\n",
       "    </tr>\n",
       "    <tr>\n",
       "      <th>75%</th>\n",
       "      <td>990000.000</td>\n",
       "      <td>4.000</td>\n",
       "    </tr>\n",
       "    <tr>\n",
       "      <th>max</th>\n",
       "      <td>11251000.000</td>\n",
       "      <td>8.000</td>\n",
       "    </tr>\n",
       "  </tbody>\n",
       "</table>\n",
       "</div>"
      ],
      "text/plain": [
       "             Price  Bedrooms\n",
       "count      199.000   199.000\n",
       "mean   1016886.181     3.352\n",
       "std     914897.922     1.328\n",
       "min     650000.000     1.000\n",
       "25%     725000.000     2.000\n",
       "50%     815000.000     3.000\n",
       "75%     990000.000     4.000\n",
       "max   11251000.000     8.000"
      ]
     },
     "execution_count": 78,
     "metadata": {},
     "output_type": "execute_result"
    }
   ],
   "source": [
    "# It was displaying the values with scientific notation so had to use this to suppress it\n",
    "pd.set_option('display.float_format', lambda x: '%.3f' % x)\n",
    "df.describe()"
   ]
  },
  {
   "cell_type": "code",
   "execution_count": 83,
   "metadata": {},
   "outputs": [],
   "source": [
    "# The line below can be used to export the clean dataset as a csv file\n",
    "# df.to_csv(\"clean_data.csv\", index=False)"
   ]
  },
  {
   "cell_type": "code",
   "execution_count": 85,
   "metadata": {},
   "outputs": [],
   "source": [
    "# Dependency to export to AWS, otherwise not needed\n",
    "import boto3"
   ]
  },
  {
   "cell_type": "code",
   "execution_count": 91,
   "metadata": {},
   "outputs": [],
   "source": [
    "# This is used to export the df as a csv file and store it in the specified s3 bucket\n",
    "filename = 'clean_data.csv'\n",
    "bucketname = 'ahmad-bucket123'\n",
    "\n",
    "csv_buffer = df.to_csv(index=False)\n",
    "\n",
    "client = boto3.client('s3')\n",
    "\n",
    "response = client.put_object(\n",
    "    Body=csv_buffer,\n",
    "    Bucket=bucketname,\n",
    "    Key=filename\n",
    ")"
   ]
  }
 ],
 "metadata": {
  "kernelspec": {
   "display_name": "Python 3",
   "language": "python",
   "name": "python3"
  },
  "language_info": {
   "codemirror_mode": {
    "name": "ipython",
    "version": 3
   },
   "file_extension": ".py",
   "mimetype": "text/x-python",
   "name": "python",
   "nbconvert_exporter": "python",
   "pygments_lexer": "ipython3",
   "version": "3.11.1"
  },
  "orig_nbformat": 4
 },
 "nbformat": 4,
 "nbformat_minor": 2
}
